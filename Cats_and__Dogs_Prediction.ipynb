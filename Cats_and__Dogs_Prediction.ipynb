{
  "cells": [
    {
      "cell_type": "markdown",
      "metadata": {
        "id": "hVKiiyQUgZt0"
      },
      "source": [
        "# Importing the libaries"
      ]
    },
    {
      "cell_type": "code",
      "execution_count": 2,
      "metadata": {
        "id": "3SCBmUhjd6eY"
      },
      "outputs": [],
      "source": [
        "import os\n",
        "import pathlib\n",
        "import random\n",
        "import numpy as np\n",
        "import matplotlib.pyplot as plt\n",
        "import matplotlib.image as mpimg\n",
        "from sklearn.model_selection import train_test_split\n",
        "\n",
        "import requests\n",
        "import cv2\n",
        "import glob as glob\n",
        "from PIL import Image\n",
        "from google.colab.patches import cv2_imshow\n",
        "\n",
        "import tensorflow as tf\n",
        "from tensorflow import keras\n",
        "from tensorflow.keras import layers\n",
        "from tensorflow.keras import Sequential\n",
        "from keras.applications.vgg16 import VGG16\n",
        "from tensorflow.keras.layers import Dense, Conv2D, MaxPooling2D, Dropout, Flatten\n",
        "from tensorflow.keras.utils import image_dataset_from_directory\n",
        "\n",
        "from zipfile import ZipFile\n",
        "from urllib.request import urlretrieve"
      ]
    },
    {
      "cell_type": "code",
      "execution_count": null,
      "metadata": {
        "colab": {
          "base_uri": "https://localhost:8080/"
        },
        "id": "TBjJZbbA0fpf",
        "outputId": "eb5e2f45-3de2-4b3f-a13a-1c5d75f20655"
      },
      "outputs": [],
      "source": [
        "!mkdir -p ~/.kaggle\n",
        "!cp kaggle.json ~/.kaggle/"
      ]
    },
    {
      "cell_type": "code",
      "execution_count": null,
      "metadata": {
        "colab": {
          "base_uri": "https://localhost:8080/"
        },
        "id": "d7ODjyWW1lZC",
        "outputId": "bbd61ed8-aa49-4452-9202-aa7ac1a7d2e1"
      },
      "outputs": [],
      "source": [
        "!kaggle datasets download -d salader/dogs-vs-cats"
      ]
    },
    {
      "cell_type": "code",
      "execution_count": null,
      "metadata": {
        "colab": {
          "base_uri": "https://localhost:8080/",
          "height": 329
        },
        "id": "m3MrRejX18sx",
        "outputId": "c7646e92-f56a-4946-89e3-f6a9e0cbf367"
      },
      "outputs": [],
      "source": [
        "import zipfile\n",
        "zip_ref = zipfile.ZipFile('/content/dogs-vs-cats.zip', 'r')\n",
        "zip_ref.extractall('/content')\n",
        "zip_ref.close()"
      ]
    },
    {
      "cell_type": "code",
      "execution_count": null,
      "metadata": {
        "id": "Eya_y232twPx"
      },
      "outputs": [],
      "source": [
        "# display resized dog image\n",
        "img = mpimg.imread('/content/test/dogs/dog.10006.jpg')\n",
        "imgplt = plt.imshow(img)\n",
        "plt.show()"
      ]
    },
    {
      "cell_type": "code",
      "execution_count": null,
      "metadata": {
        "id": "xf_EZ8i3uzmr"
      },
      "outputs": [],
      "source": [
        "# display resized cat image\n",
        "img = mpimg.imread('/content/test/cats/cat.10001.jpg')\n",
        "imgplt = plt.imshow(img)\n",
        "plt.show()"
      ]
    },
    {
      "cell_type": "code",
      "execution_count": null,
      "metadata": {
        "id": "9XsWgqMR-Vjw"
      },
      "outputs": [],
      "source": [
        "file_names = os.listdir('/content/train/dogs')\n",
        "\n",
        "for i in range(5):\n",
        "\n",
        "  name = file_names[i]\n",
        "  print(name[0:3])\n"
      ]
    },
    {
      "cell_type": "code",
      "execution_count": null,
      "metadata": {
        "id": "2SUbUOZNZnxZ"
      },
      "outputs": [],
      "source": [
        "conv_base = VGG16(\n",
        "    weights='imagenet',\n",
        "    include_top = False,\n",
        "    input_shape=(224,224,3)\n",
        ")"
      ]
    },
    {
      "cell_type": "code",
      "execution_count": null,
      "metadata": {
        "id": "z_aqHoRGZ-5c"
      },
      "outputs": [],
      "source": [
        "conv_base.summary()"
      ]
    },
    {
      "cell_type": "code",
      "execution_count": null,
      "metadata": {
        "id": "J8oyKHa0aT_h"
      },
      "outputs": [],
      "source": [
        "model = Sequential()\n",
        "\n",
        "model.add(conv_base)\n",
        "model.add(Flatten())\n",
        "model.add(Dense(256,activation='relu'))\n",
        "model.add(Dense(1,activation='sigmoid'))"
      ]
    },
    {
      "cell_type": "code",
      "execution_count": null,
      "metadata": {
        "id": "rkM0k8ZnaZ6H"
      },
      "outputs": [],
      "source": [
        "model.summary()"
      ]
    },
    {
      "cell_type": "code",
      "execution_count": null,
      "metadata": {
        "id": "6U6lBYd3aflc"
      },
      "outputs": [],
      "source": [
        "conv_base.trainable = False"
      ]
    },
    {
      "cell_type": "code",
      "execution_count": null,
      "metadata": {
        "id": "SdFwB1ulamWy"
      },
      "outputs": [],
      "source": [
        "# generators\n",
        "train_ds = keras.utils.image_dataset_from_directory(\n",
        "    directory = '/content/train',\n",
        "    labels='inferred',\n",
        "    label_mode = 'int',\n",
        "    batch_size=32,\n",
        "    image_size=(224,224)\n",
        ")\n",
        "\n",
        "validation_ds = keras.utils.image_dataset_from_directory(\n",
        "    directory = '/content/test',\n",
        "    labels='inferred',\n",
        "    label_mode = 'int',\n",
        "    batch_size=32,\n",
        "    image_size=(224,224)\n",
        ")"
      ]
    },
    {
      "cell_type": "code",
      "execution_count": null,
      "metadata": {
        "id": "o3rRRMp-LaK-"
      },
      "outputs": [],
      "source": [
        "# Normalize\n",
        "def process(image,label):\n",
        "    image = tf.cast(image/255. ,tf.float32)\n",
        "    return image,label\n",
        "\n",
        "train_ds = train_ds.map(process)\n",
        "validation_ds = validation_ds.map(process)"
      ]
    },
    {
      "cell_type": "code",
      "execution_count": null,
      "metadata": {
        "id": "LIAyqXE4bFvE"
      },
      "outputs": [],
      "source": [
        "model.compile(optimizer= keras.optimizers.RMSprop(lr=1e-5),loss='binary_crossentropy',metrics=['accuracy'])"
      ]
    },
    {
      "cell_type": "code",
      "execution_count": null,
      "metadata": {
        "id": "W7vBH0pVvUoL"
      },
      "outputs": [],
      "source": [
        "history = model.fit(train_ds,epochs=10,validation_data=validation_ds)"
      ]
    },
    {
      "cell_type": "code",
      "execution_count": null,
      "metadata": {
        "id": "seR0LI3q9bw8"
      },
      "outputs": [],
      "source": [
        "def plot_results(metrics, ylabel=None, ylim=None, metric_name=None, color=None):\n",
        "    fig, ax = plt.subplots(figsize=(15, 4))\n",
        "\n",
        "    if not (isinstance(metric_name, list) or isinstance(metric_name, tuple)):\n",
        "        metrics = [metrics,]\n",
        "        metric_name = [metric_name,]\n",
        "\n",
        "    for idx, metric in enumerate(metrics):\n",
        "        ax.plot(metric, color=color[idx])\n",
        "\n",
        "    plt.xlabel(\"Epoch\")\n",
        "    plt.ylabel(ylabel)\n",
        "    plt.title(ylabel)\n",
        "    plt.xlim([0, 10])\n",
        "    plt.ylim(ylim)\n",
        "\n",
        "    plt.grid(True)\n",
        "    plt.legend(metric_name)\n",
        "    plt.show()\n",
        "    plt.close()"
      ]
    },
    {
      "cell_type": "code",
      "execution_count": null,
      "metadata": {
        "id": "k6RVvmelzZnY"
      },
      "outputs": [],
      "source": [
        "# Retrieve training results.\n",
        "train_loss = history.history[\"loss\"]\n",
        "train_acc  = history.history[\"accuracy\"]\n",
        "valid_loss = history.history[\"val_loss\"]\n",
        "valid_acc  = history.history[\"val_accuracy\"]\n",
        "\n",
        "plot_results(\n",
        "    [train_loss, valid_loss],\n",
        "    ylabel=\"Loss\",\n",
        "    ylim=[0.0, 5.0],\n",
        "    metric_name=[\"Training Loss\", \"Validation Loss\"],\n",
        "    color=[\"g\", \"b\"],\n",
        ")\n",
        "\n",
        "plot_results(\n",
        "    [train_acc, valid_acc],\n",
        "    ylabel=\"Accuracy\",\n",
        "    ylim=[0.0, 1.0],\n",
        "    metric_name=[\"Training Accuracy\", \"Validation Accuracy\"],\n",
        "    color=[\"g\", \"b\"],\n",
        ")"
      ]
    },
    {
      "cell_type": "code",
      "execution_count": null,
      "metadata": {
        "id": "cwhBHTUYzpt9"
      },
      "outputs": [],
      "source": [
        "plt.plot(history.history['loss'],color='green',label='train')\n",
        "plt.plot(history.history['val_loss'],color='blue',label='validation')\n",
        "plt.legend()\n",
        "plt.show()"
      ]
    },
    {
      "cell_type": "code",
      "execution_count": 58,
      "metadata": {
        "colab": {
          "base_uri": "https://localhost:8080/",
          "height": 430
        },
        "id": "qbcAK5sJ-62r",
        "outputId": "47da47fe-e2d5-4c66-fbd1-26502e0c90ff"
      },
      "outputs": [
        {
          "data": {
            "image/png": "[encoded data removed]",
            "text/plain": [
              "<Figure size 640x480 with 1 Axes>"
            ]
          },
          "metadata": {},
          "output_type": "display_data"
        }
      ],
      "source": [
        "plt.plot(history.history['accuracy'],color='red',label='train')\n",
        "plt.plot(history.history['val_accuracy'],color='blue',label='validation')\n",
        "plt.legend()\n",
        "plt.show()"
      ]
    },
    {
      "cell_type": "code",
      "execution_count": 59,
      "metadata": {
        "colab": {
          "base_uri": "https://localhost:8080/"
        },
        "id": "eqQRI4On_DL5",
        "outputId": "8df2659d-6c26-48b5-a664-2234945ac70f"
      },
      "outputs": [
        {
          "name": "stdout",
          "output_type": "stream",
          "text": [
            "157/157 [==============================] - 21s 127ms/step - loss: 0.4351 - accuracy: 0.9096\n",
            "Model valid accuracy: 90.960\n"
          ]
        }
      ],
      "source": [
        "print(f\"Model valid accuracy: {model.evaluate(validation_ds)[1]*100.:.3f}\")"
      ]
    },
    {
      "cell_type": "code",
      "execution_count": 67,
      "metadata": {
        "id": "lPt8GCgn3G62"
      },
      "outputs": [],
      "source": []
    },
    {
      "cell_type": "code",
      "execution_count": 64,
      "metadata": {
        "id": "5k3Wj6k39OQj"
      },
      "outputs": [],
      "source": []
    }
  ],
  "metadata": {
    "accelerator": "GPU",
    "colab": {
      "gpuType": "T4",
      "provenance": []
    },
    "kernelspec": {
      "display_name": "Python 3",
      "name": "python3"
    },
    "language_info": {
      "name": "python"
    }
  },
  "nbformat": 4,
  "nbformat_minor": 0
}
